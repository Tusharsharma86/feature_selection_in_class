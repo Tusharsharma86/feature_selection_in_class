{
 "cells": [
  {
   "cell_type": "markdown",
   "metadata": {
    "slideshow": {
     "slide_type": "slide"
    }
   },
   "source": [
    "<h1 align=\"center\">Feature Selection</h1>"
   ]
  },
  {
   "cell_type": "markdown",
   "metadata": {
    "slideshow": {
     "slide_type": "slide"
    }
   },
   "source": [
    "![feature_selection](../images/feature_selection.png)"
   ]
  },
  {
   "cell_type": "markdown",
   "metadata": {
    "slideshow": {
     "slide_type": "slide"
    }
   },
   "source": [
    "## Program so far\n",
    "\n",
    "***\n",
    "\n",
    "- Basics of Python\n",
    "- Descriptive and Inferential Statistics\n",
    "- Linear Regression\n",
    "- L1/L2 Regularization\n",
    "- Basic data cleaning and Preprocessing\n",
    "- Feature extraction and Feature engineering"
   ]
  },
  {
   "cell_type": "markdown",
   "metadata": {
    "slideshow": {
     "slide_type": "slide"
    }
   },
   "source": [
    "# Table of contents\n",
    "***\n",
    "\n",
    "- Importance of Feature Selection\n",
    "    - Variance Threshold\n",
    "    - Pearson\n",
    "    - Select K Best\n",
    "    - f_regression\n",
    "    - RFE"
   ]
  },
  {
   "cell_type": "markdown",
   "metadata": {
    "slideshow": {
     "slide_type": "slide"
    }
   },
   "source": [
    "**What is to be covered later?**\n",
    "\n",
    "\n",
    "- Filter Methods\n",
    "- Wrapper Methods\n",
    "- Embedded Methods\n",
    "- Difference between Filter and Wrapper methods\n",
    "- Walk-through example\n",
    "\n",
    "*****"
   ]
  },
  {
   "cell_type": "markdown",
   "metadata": {
    "slideshow": {
     "slide_type": "slide"
    }
   },
   "source": [
    "# John in a fix again..\n",
    "***\n",
    "* So John was content from what he learned on Feature extraction and Feature engineering, so he planned to go through for building a model.\n",
    "\n",
    "* So he looked at the feature and looked puzzled, as he saw some feature got deleted and other got added.\n",
    "\n",
    "* His brain was again in chaos as he thought he is doing well in building a model."
   ]
  },
  {
   "cell_type": "markdown",
   "metadata": {
    "slideshow": {
     "slide_type": "subslide"
    }
   },
   "source": [
    "## Jay to the rescue!!\n",
    "***\n",
    "\n",
    "* John called up Jay, who asked him to calm down and go for a feature selection, decide whether which feature is important and which is not important while building a model.\n",
    "\n",
    "** John got really happy to find a solution, but just for a second. Next, he realized he did not know what feature selection is. Jay figured this out from his blank expressions. Weird John!! However, Jay went on to explain what feature selection is. **"
   ]
  },
  {
   "cell_type": "markdown",
   "metadata": {
    "slideshow": {
     "slide_type": "subslide"
    }
   },
   "source": [
    "![I_have_no_idea](../images/afaf75eb7f7d985123e90b966a7c055c1941f4a6f7098885c4558a9491eeb1ed.jpg)"
   ]
  },
  {
   "cell_type": "markdown",
   "metadata": {
    "slideshow": {
     "slide_type": "subslide"
    }
   },
   "source": [
    "## So what is Feature Selection?\n",
    "***\n",
    "* In machine learning and statistics, feature selection, also known as variable selection, attribute selection or variable subset selection, is the process of selecting a subset of relevant features (variables, predictors) for use in model construction."
   ]
  },
  {
   "cell_type": "markdown",
   "metadata": {
    "slideshow": {
     "slide_type": "subslide"
    }
   },
   "source": [
    "## Importance of Feature Selection\n",
    "***\n",
    "* This becomes even more important when the number of features are very large.\n",
    "* You need not use every feature at your disposal for creating an algorithm. \n",
    "* You can assist your algorithm by feeding in only those features that are really important."
   ]
  },
  {
   "cell_type": "markdown",
   "metadata": {
    "slideshow": {
     "slide_type": "subslide"
    }
   },
   "source": [
    "## Where to use feature selection?\n",
    "***\n",
    "- It enables the machine learning algorithm to train faster.\n",
    "- It reduces the complexity of a model and makes it easier to interpret.\n",
    "- It improves the accuracy of a model if the right subset is chosen.\n",
    "- It reduces overfitting."
   ]
  },
  {
   "cell_type": "markdown",
   "metadata": {
    "slideshow": {
     "slide_type": "slide"
    }
   },
   "source": [
    "# Type of Feature Selection\n",
    "***\n",
    "Jay helped John identify different types of feature selection:-\n",
    "\n",
    "* Univariate Feature Selection\n",
    "* Multivariate Feature Selection\n"
   ]
  },
  {
   "cell_type": "markdown",
   "metadata": {
    "slideshow": {
     "slide_type": "slide"
    }
   },
   "source": [
    "<img src=\"../images/Technical-Stuff.png\" alt=\"Technical-Stuff\" style=\"width: 100px;float:left; margin-right:15px\"/>\n",
    "<br />\n",
    "## Univariate Feature Selection (1/2)\n",
    "***\n",
    "* Univariate feature selection methods examine -\n",
    "    - the predictive power of individual features\n",
    "    - the strength of the relationship of the feature with the response variable\n",
    "* These methods are simple to run and understand\n",
    "* They also prove to be good for gaining a better understanding of data, and can often be the starting point for multivariate feature selection methods"
   ]
  },
  {
   "cell_type": "markdown",
   "metadata": {
    "slideshow": {
     "slide_type": "subslide"
    }
   },
   "source": [
    "<img src=\"../images/Technical-Stuff.png\" alt=\"Technical-Stuff\" style=\"width: 100px;float:left; margin-right:15px\"/>\n",
    "<br />\n",
    "## Univariate Feature Selection (2/2)\n",
    "***\n",
    "* We can look at the interaction between the top variables instead of all possible combinations\n",
    "* These methods are not necessarily good for optimizing the feature set for better generalization"
   ]
  },
  {
   "cell_type": "markdown",
   "metadata": {
    "slideshow": {
     "slide_type": "subslide"
    }
   },
   "source": [
    "### Method 1 : Removing features with low variance (1/2)\n",
    "***\n",
    "* One of the most basic, yet a very powerful feature selection technique\n",
    "* We want to remove all features whose variance doesn't meet some threshold\n",
    "* For example, a feature with 0 variance means it has the same value for every sample. This means that such a feature would not bring any predictive power to the model. \n",
    "* Hence, we should remove all such zero-variance features"
   ]
  },
  {
   "cell_type": "markdown",
   "metadata": {
    "slideshow": {
     "slide_type": "subslide"
    }
   },
   "source": [
    "\n",
    "### Removing features with low variance (2/2)\n",
    "***\n",
    "* John thought, if he had a dataset with boolean features, and he wanted to remove all features that were either one or zero (on or off) in more than 80% of the samples. How would he do that?\n",
    "\n",
    "* Answer : Boolean features are Bernoulli random variables, and the variance of such variables is given by  Var(x)=p(1−p)\n",
    "\n",
    "* *from sklearn.feature_selection import VarianceThreshold*   is a handy method to remove such features\n"
   ]
  },
  {
   "cell_type": "code",
   "execution_count": 11,
   "metadata": {
    "slideshow": {
     "slide_type": "slide"
    }
   },
   "outputs": [
    {
     "data": {
      "text/plain": [
       "array([[0, 1],\n",
       "       [1, 0],\n",
       "       [0, 0],\n",
       "       [1, 1],\n",
       "       [1, 0],\n",
       "       [1, 1]])"
      ]
     },
     "execution_count": 11,
     "metadata": {},
     "output_type": "execute_result"
    }
   ],
   "source": [
    "from sklearn.feature_selection import VarianceThreshold\n",
    "X = [[0, 0, 1], [0, 1, 0], [1, 0, 0], [0, 1, 1], [0, 1, 0], [0, 1, 1]]\n",
    "sel = VarianceThreshold(threshold=(.8 * (1 - .8)))\n",
    "sel.fit_transform(X)"
   ]
  },
  {
   "cell_type": "markdown",
   "metadata": {
    "slideshow": {
     "slide_type": "slide"
    }
   },
   "source": [
    "### Method 2 : Pearson Correlation\n",
    "***\n",
    "* Another method that Jay suggested was Pearson Correlation\n",
    "* The population correlation coefficient  $ρ_{(X,Y)}$  between two random variables  X and  Y with expected values  $μ_X$  and  $μ_Y$  and standard deviations  $σ_X$ and  $σ_Y$.\n",
    "* It is used as a measure for quantifying linear dependence between two continuous variables X and Y. Its value varies from -1 to +1. Pearson’s correlation is given as:\n",
    "![FS3.JPG](../images/FS3.JPG)\n",
    "* where E is the expected value operator, cov means covariance, and corr is a widely used alternative notation for the correlation coefficient."
   ]
  },
  {
   "cell_type": "markdown",
   "metadata": {
    "slideshow": {
     "slide_type": "subslide"
    }
   },
   "source": [
    "### Pearson Correlation\n",
    "***\n",
    "* One of the simplest method for understanding a feature's relation to the response variable is Pearson correlation coefficient, which measures linear correlation between two variables\n",
    "* Scipy's Pearson's method computes both the correlation and p-value for the correlation, roughly showing the probability of an uncorrelated system creating a correlation value of this magnitude."
   ]
  },
  {
   "cell_type": "code",
   "execution_count": 20,
   "metadata": {
    "slideshow": {
     "slide_type": "subslide"
    }
   },
   "outputs": [
    {
     "name": "stdout",
     "output_type": "stream",
     "text": [
      "(0.21333063767622742, 1.1737586722804399e-15)\n",
      "(0.25292145909045383, 1.4393180302090238e-21)\n",
      "(0.78722782608733488, 2.1445443005885551e-291)\n",
      "(-0.095277741322441101, 0.00039562906150161819)\n",
      "(0.5075840635608162, 3.4952090879764857e-91)\n",
      "(0.50543406085945486, 2.6380742157957248e-90)\n",
      "(0.46313912358889814, 2.9820001700080498e-74)\n",
      "(0.37556275564606306, 1.9661359169716295e-47)\n",
      "(-0.023242905914850134, 0.38843634048536457)\n",
      "(0.21313492312249654, 1.2477039987503075e-15)\n",
      "(0.60358340521938458, 1.2138812661326489e-137)\n",
      "(0.59493527015311187, 8.4434426924660832e-133)\n",
      "(0.31333558982340071, 8.586805601804292e-33)\n",
      "(-0.0083643951963062197, 0.75630648727034699)\n",
      "(0.70817211395401802, 2.0881561463430674e-210)\n",
      "(0.22598801206023669, 1.9869617037193285e-17)\n",
      "(-0.02565087567084923, 0.34118054695789191)\n",
      "(0.5565503021306587, 5.5318538843289583e-113)\n",
      "(0.27072120770545072, 1.3703337439160485e-24)\n",
      "(0.1646549492106765, 7.7032133988274317e-10)\n",
      "(-0.13557396150699427, 4.3422728354803543e-07)\n",
      "(0.53830912413744747, 1.931915358586909e-104)\n",
      "(0.44887748284169326, 2.5042755626004497e-69)\n",
      "(0.48636167748786086, 8.7051279421424823e-83)\n",
      "(0.63709540620789273, 6.8357262145258097e-158)\n",
      "(0.60840528291683482, 2.0850476172646518e-140)\n",
      "(0.31263142658039589, 1.204777892747019e-32)\n",
      "(0.33303619489006697, 4.5237748604534861e-37)\n",
      "(-0.12016443034823453, 7.6601775525165002e-06)\n",
      "(0.039226346612596621, 0.14541876609544641)\n",
      "(0.099452813809427165, 0.00021645590170502637)\n",
      "(0.091518386190334852, 0.0006675138102752847)\n",
      "(-0.017933385824593837, 0.50579219399453468)\n",
      "(-0.026725513200267035, 0.32133114489397774)\n"
     ]
    }
   ],
   "source": [
    "from scipy.stats import pearsonr\n",
    "import pandas as pd\n",
    "import numpy as np\n",
    "\n",
    "iowa = pd.read_csv('../data/house_prices_multivariate.csv')\n",
    "\n",
    "X = iowa.iloc[:,:-1]\n",
    "y = iowa.iloc[:,-1]\n",
    "\n",
    "for i in X.columns:\n",
    "    print(pearsonr(X[i],y))"
   ]
  },
  {
   "cell_type": "markdown",
   "metadata": {
    "slideshow": {
     "slide_type": "subslide"
    }
   },
   "source": [
    "### Pearson Correlation\n",
    "***\n",
    "* With smaller amount of noise, the correlation is relatively strong, with a very low p-value\n",
    "* However, for the noisy comparison, the correlation is very small and p-value is very high\n",
    "* The p-value roughly indicates the probability of an uncorrelated system producing datasets that have a Pearson correlation at least as extreme as the one computed from these datasets"
   ]
  },
  {
   "cell_type": "markdown",
   "metadata": {
    "slideshow": {
     "slide_type": "subslide"
    }
   },
   "source": [
    "### Pearson Correlation: \n",
    "***\n",
    "* Pearson correlation is the ratio of co-variance of two variables to a product of variance (of the variables)\n",
    "* The correlation coefficient has values between -1 to 1\n",
    "    - A value closer to 0 implies weaker correlation (exact 0 implying no correlation)\n",
    "    - A value closer to 1 implies stronger positive correlation\n",
    "    - A value closer to -1 implies stronger negative correlation\n"
   ]
  },
  {
   "cell_type": "markdown",
   "metadata": {
    "slideshow": {
     "slide_type": "subslide"
    }
   },
   "source": [
    "### Pearson Correlation\n",
    "***\n",
    "**Correlation is not Transitive:**\n",
    "\n",
    "* Let  X,  Y and  Z be random variables.\n",
    "    - ρX,Y > 0.8\n",
    "    - ρY,Z > 0.7\n",
    "\n",
    "* Can we say  ρX,Z  will be strongly positive?\n"
   ]
  },
  {
   "cell_type": "markdown",
   "metadata": {
    "slideshow": {
     "slide_type": "subslide"
    }
   },
   "source": [
    "### Pearson Correlation\n",
    "***\n",
    "**Correlation is not Transitive:**\n",
    "\n",
    "* Not really! \n",
    "* ρX,Z will be positive if ρX,Y and ρY,Z are very close to 1\n",
    "* Mathematically speaking:\n",
    "![FS4.JPG](../images/FS4.JPG)"
   ]
  },
  {
   "cell_type": "markdown",
   "metadata": {
    "slideshow": {
     "slide_type": "subslide"
    }
   },
   "source": [
    "### Pearson Correlation\n",
    "***\n",
    "**Sensitivity to Outliers:**\n",
    "Once again:\n",
    "![FS5.JPG](../images/FS5.JPG)\n",
    "* Means themselves are sensitive to outliers\n",
    "* The correlation itself will be sensitive to outliers as well"
   ]
  },
  {
   "cell_type": "markdown",
   "metadata": {
    "slideshow": {
     "slide_type": "subslide"
    }
   },
   "source": [
    "### Pearson Correlation\n",
    "***\n",
    "**Correlation doesn't capture nonlinear relationships**\n",
    " \n",
    "* One obvious drawback of Pearson correlation as a feature ranking mechanism is that it is only sensitive to a linear relationship.\n",
    "* If the relation is non-linear, Pearson correlation can be close to zero even if there is a 1-1 correspondence between the two variables.\n",
    "* For example, correlation between x and $x_2$ is zero, when x is centered on 0."
   ]
  },
  {
   "cell_type": "markdown",
   "metadata": {
    "slideshow": {
     "slide_type": "subslide"
    }
   },
   "source": [
    "### Pearson Correlation\n",
    "***\n",
    "**Correlation doesn't capture nonlinear relationships**\n",
    " \n",
    "* In the image in the next slide, there are several sets of (x, y) points, with the Pearson correlation coefficient of x and y for each set.\n",
    "* Note that the correlation reflects the noisiness and direction of a linear relationship (top row), but not the slope of that relationship (middle), nor many aspects of nonlinear relationships (bottom).\n"
   ]
  },
  {
   "cell_type": "markdown",
   "metadata": {
    "slideshow": {
     "slide_type": "subslide"
    }
   },
   "source": [
    "### Pearson Correlation\n",
    "***\n",
    "**Correlation doesn't capture nonlinear relationships**\n",
    "\n",
    "![FS6.JPG](../images/FS6.JPG)"
   ]
  },
  {
   "cell_type": "markdown",
   "metadata": {
    "slideshow": {
     "slide_type": "subslide"
    }
   },
   "source": [
    "### Pearson Correlation\n",
    "*** \n",
    "![FS7.JPG](../images/FS7.JPG)"
   ]
  },
  {
   "cell_type": "markdown",
   "metadata": {
    "slideshow": {
     "slide_type": "slide"
    }
   },
   "source": [
    "#### Now that John understood Pearson's Correlation, he wanted to get deeper into Feature Extraction in Python."
   ]
  },
  {
   "cell_type": "markdown",
   "metadata": {
    "slideshow": {
     "slide_type": "slide"
    }
   },
   "source": [
    "<img src=\"../images/Technical-Stuff.png\" alt=\"Technical-Stuff\" style=\"width: 100px;float:left; margin-right:15px\"/>\n",
    "<br />\n",
    "## Sklearn for Feature Selection\n",
    "***\n",
    "* Scikit-learn has a wide variety of functions for eliminating features based information-criteria. \n",
    "* For performing univariate feature selection, we need to specify two parameters\n",
    "    - Selection criteria\n",
    "    - Metric to be used for selection\n",
    "\n"
   ]
  },
  {
   "cell_type": "markdown",
   "metadata": {
    "slideshow": {
     "slide_type": "subslide"
    }
   },
   "source": [
    "**Sklearn for Feature Selection**\n",
    "##### Selection Criteria\n",
    "* SelectKBest: Removes all but the k highest scoring features\n",
    "* SelectPercentile: Removes all but a user-specified highest scoring percentage of features\n"
   ]
  },
  {
   "cell_type": "code",
   "execution_count": 42,
   "metadata": {
    "collapsed": true
   },
   "outputs": [],
   "source": [
    "# Your code here\n",
    "\n",
    "# Import selectKBest with appropriate score function"
   ]
  },
  {
   "cell_type": "markdown",
   "metadata": {
    "slideshow": {
     "slide_type": "subslide"
    }
   },
   "source": [
    "**Sklearn for Feature Selection**\n",
    "##### Regression\n",
    "* **f_regression**: The methods based on F-test estimate the degree of linear dependency between two random variables.\n",
    "* **Mutual_info_regression**:Mutual information methods can capture any kind of statistical dependency, but being nonparametric, they require more samples for accurate estimation\n"
   ]
  },
  {
   "cell_type": "markdown",
   "metadata": {
    "slideshow": {
     "slide_type": "subslide"
    }
   },
   "source": [
    "** Sklearn for Feature Selection**\n",
    "##### Selection Metric\n",
    "##### Classification\n",
    "\n",
    "* **chi2**: Based on Chi Squared\n",
    "* **F_classif**: Based on f-test\n",
    "* **Mutual_info_classif**: Based on Mutual Information Theory"
   ]
  },
  {
   "cell_type": "markdown",
   "metadata": {
    "slideshow": {
     "slide_type": "subslide"
    }
   },
   "source": [
    "Let's understand how f-test and mutual information behave differently. Let's start by creating a toy dataset, in which y depends on three components: a linear, a non-linear and a random.\n",
    "\n",
    "$y = x_1 + sin(6 * pi * x_2) + 0.1 * N(0, 1)$"
   ]
  },
  {
   "cell_type": "code",
   "execution_count": 41,
   "metadata": {
    "collapsed": true,
    "slideshow": {
     "slide_type": "subslide"
    }
   },
   "outputs": [],
   "source": [
    "import numpy as np\n",
    "import matplotlib.pyplot as plt\n",
    "\n",
    "np.random.seed(67)\n",
    "X = np.random.rand(1000, 3)\n",
    "y = X[:, 0] + np.sin(5* np.pi * X[:, 1]) + 0.1 * np.random.randn(1000)"
   ]
  },
  {
   "cell_type": "markdown",
   "metadata": {},
   "source": [
    "Now, let's calculate the importance scores of the features and normalize them so that they can be compared with each other."
   ]
  },
  {
   "cell_type": "code",
   "execution_count": 37,
   "metadata": {
    "collapsed": true,
    "slideshow": {
     "slide_type": "subslide"
    }
   },
   "outputs": [],
   "source": [
    "from sklearn.feature_selection import f_regression, mutual_info_regression\n",
    "\n",
    "f_test, _ = f_regression(X, y)\n",
    "f_test /= np.max(f_test)\n",
    "\n",
    "mi = mutual_info_regression(X, y)\n",
    "mi /= np.max(mi)"
   ]
  },
  {
   "cell_type": "code",
   "execution_count": 38,
   "metadata": {
    "slideshow": {
     "slide_type": "subslide"
    }
   },
   "outputs": [
    {
     "data": {
      "text/plain": [
       "array([  1.00000000e+00,   8.85853745e-04,   1.14290255e-04])"
      ]
     },
     "execution_count": 38,
     "metadata": {},
     "output_type": "execute_result"
    }
   ],
   "source": [
    "f_test"
   ]
  },
  {
   "cell_type": "code",
   "execution_count": 39,
   "metadata": {
    "slideshow": {
     "slide_type": "subslide"
    }
   },
   "outputs": [
    {
     "data": {
      "text/plain": [
       "array([ 0.26872014,  1.        ,  0.        ])"
      ]
     },
     "execution_count": 39,
     "metadata": {},
     "output_type": "execute_result"
    }
   ],
   "source": [
    "mi"
   ]
  },
  {
   "cell_type": "markdown",
   "metadata": {
    "slideshow": {
     "slide_type": "subslide"
    }
   },
   "source": [
    "Now, let's plot these values and compare them."
   ]
  },
  {
   "cell_type": "code",
   "execution_count": 40,
   "metadata": {
    "slideshow": {
     "slide_type": "subslide"
    }
   },
   "outputs": [
    {
     "data": {
      "image/png": "[encoded data removed]",
      "text/plain": [
       "<matplotlib.figure.Figure at 0x11206fc50>"
      ]
     },
     "metadata": {},
     "output_type": "display_data"
    }
   ],
   "source": [
    "plt.figure(figsize=(15, 5))\n",
    "for i in range(3):\n",
    "    plt.subplot(1, 3, i + 1)\n",
    "    plt.scatter(X[:, i], y)\n",
    "    plt.xlabel(\"$x_{}$\".format(i + 1), fontsize=14)\n",
    "    if i == 0:\n",
    "        plt.ylabel(\"$y$\", fontsize=14)\n",
    "    plt.title(\"F-test={:.2f}, MI={:.2f}\".format(f_test[i], mi[i]),\n",
    "              fontsize=16)\n",
    "plt.show()"
   ]
  },
  {
   "cell_type": "markdown",
   "metadata": {
    "slideshow": {
     "slide_type": "subslide"
    }
   },
   "source": [
    "We can clearly see how f-test can only capture the linear relationship, whereas MI can capture no-linear relationships as well. You can vary the coefficient of the `sin` component to examine how the MI behaves when the coefficient is made sufficiently low."
   ]
  },
  {
   "cell_type": "markdown",
   "metadata": {
    "slideshow": {
     "slide_type": "subslide"
    }
   },
   "source": [
    "### Various methodologies and techniques  to subset  feature space and make models perform better and efficiently.\n",
    "***\n",
    "John got a good measure of feature selection and was more confident than ever on it. He started reading more on techniques to make his models more efficient. This is what he found out-"
   ]
  },
  {
   "cell_type": "markdown",
   "metadata": {
    "slideshow": {
     "slide_type": "slide"
    }
   },
   "source": [
    "<img src=\"../images/Technical-Stuff.png\" alt=\"Technical-Stuff\" style=\"width: 100px;float:left; margin-right:15px\"/>\n",
    "<br />\n",
    "##  Filter Methods\n",
    "***\n",
    "![Filter_1.png](../images/Filter_1.png)\n",
    "[Source: Analytics Vidya Blog](https://www.analyticsvidhya.com/blog/2016/12/introduction-to-feature-selection-methods-with-an-example-or-how-to-select-the-right-variables/) \n",
    "\n",
    "* Filter methods are generally used as a preprocessing step. The selection of features is independent of any machine learning algorithms. \n",
    "* Instead, features are selected on the basis of their scores in various statistical tests for their correlation with the outcome variable. The correlation is a subjective term here.\n",
    "* Examples that we saw just now, are some of the filter mathod techniques.\n",
    "* For basic guidance, you can refer to the following table for defining correlation co-efficients."
   ]
  },
  {
   "cell_type": "markdown",
   "metadata": {
    "slideshow": {
     "slide_type": "slide"
    }
   },
   "source": [
    "##  Filter Methods (Optional)\n",
    "\n",
    "![FS1.png](../images/FS1.png)\n",
    "[Source: Analytics Vidya Blog](https://www.analyticsvidhya.com/blog/2016/12/introduction-to-feature-selection-methods-with-an-example-or-how-to-select-the-right-variables/)"
   ]
  },
  {
   "cell_type": "markdown",
   "metadata": {
    "slideshow": {
     "slide_type": "subslide"
    }
   },
   "source": [
    "##  Filter Methods  (Optional)\n",
    "***\n",
    "**Pearson’s Correlation**: It is used as a measure for quantifying linear dependence between two continuous variables X and Y. Its value varies from -1 to +1. Pearson's correlation is given as:\n",
    "![FS2.png](../images/FS2.png)\n",
    "[Source: Analytics Vidya Blog](https://www.analyticsvidhya.com/blog/2016/12/introduction-to-feature-selection-methods-with-an-example-or-how-to-select-the-right-variables/)"
   ]
  },
  {
   "cell_type": "code",
   "execution_count": 14,
   "metadata": {
    "slideshow": {
     "slide_type": "slide"
    }
   },
   "outputs": [
    {
     "data": {
      "text/plain": [
       "<matplotlib.axes._subplots.AxesSubplot at 0x113adca50>"
      ]
     },
     "execution_count": 14,
     "metadata": {},
     "output_type": "execute_result"
    },
    {
     "data": {
      "image/png": "[encoded data removed]",
      "text/plain": [
       "<matplotlib.figure.Figure at 0x113acf350>"
      ]
     },
     "metadata": {},
     "output_type": "display_data"
    }
   ],
   "source": [
    "import seaborn as sns\n",
    "%matplotlib inline\n",
    "from matplotlib import pyplot as plt\n",
    "import pandas as pd\n",
    "\n",
    "plt.figure(figsize=(10,6))\n",
    "sns.heatmap(iowa.corr())"
   ]
  },
  {
   "cell_type": "markdown",
   "metadata": {
    "slideshow": {
     "slide_type": "subslide"
    }
   },
   "source": [
    "##  Filter Methods (Optional)\n",
    "***\n",
    "**LDA**: Linear discriminant analysis is used to find a linear combination of features that characterizes or separates two or more classes (or levels) of a categorical variable.\n",
    "\n",
    "[Source: Analytics Vidya Blog](https://www.analyticsvidhya.com/blog/2016/12/introduction-to-feature-selection-methods-with-an-example-or-how-to-select-the-right-variables/)"
   ]
  },
  {
   "cell_type": "markdown",
   "metadata": {
    "slideshow": {
     "slide_type": "subslide"
    }
   },
   "source": [
    "##  Filter Methods (Optional)\n",
    "***\n",
    "**ANOVA**: ANOVA stands for Analysis of variance. It is similar to LDA except for the fact that it is operated using one or more categorical independent features and one continuous dependent feature. It provides a statistical test of whether the means of several groups are equal or not.\n",
    "\n",
    "[Source: Analytics Vidya Blog](https://www.analyticsvidhya.com/blog/2016/12/introduction-to-feature-selection-methods-with-an-example-or-how-to-select-the-right-variables/)"
   ]
  },
  {
   "cell_type": "markdown",
   "metadata": {
    "slideshow": {
     "slide_type": "subslide"
    }
   },
   "source": [
    "##  Filter Methods (Optional)\n",
    "***\n",
    "**Chi-Square**: It is a is a statistical test applied to the groups of categorical features to evaluate the likelihood of correlation or association between them using their frequency distribution.\n",
    "\n",
    "[Source: Analytics Vidya Blog](https://www.analyticsvidhya.com/blog/2016/12/introduction-to-feature-selection-methods-with-an-example-or-how-to-select-the-right-variables/)"
   ]
  },
  {
   "cell_type": "markdown",
   "metadata": {
    "slideshow": {
     "slide_type": "slide"
    }
   },
   "source": [
    "### Filter Methods vulnerability to Multicollinearity\n",
    "***\n",
    "One thing that should be kept in mind is that filter methods do not remove multicollinearity. So, one must deal with multicollinearity of features as well before training models for his/her data."
   ]
  },
  {
   "cell_type": "markdown",
   "metadata": {
    "slideshow": {
     "slide_type": "slide"
    }
   },
   "source": [
    "<img src=\"../images/Concept-Alert.png\" alt=\"Concept-ALert\" style=\"width: 100px;float:left; margin-right:15px\"/>\n",
    "<br />\n",
    "## Wrapper Methods\n",
    "***\n",
    "![Wrapper_1.png](../images/Wrapper_1.png)\n",
    "\n",
    "[Source: Analytics Vidya Blog](https://www.analyticsvidhya.com/blog/2016/12/introduction-to-feature-selection-methods-with-an-example-or-how-to-select-the-right-variables/)"
   ]
  },
  {
   "cell_type": "markdown",
   "metadata": {
    "slideshow": {
     "slide_type": "slide"
    }
   },
   "source": [
    "## Wrapper Methods\n",
    "***\n",
    "* In wrapper methods, we try to use a subset of features and train a model using them.\n",
    "* Based on the inferences that we draw from the previous model, we decide to add or remove features from your subset.\n",
    "* The problem is essentially reduced to a search problem. These methods are usually computationally very expensive.\n",
    "* Some common examples of wrapper methods are forward feature selection, backward feature elimination, recursive feature elimination, etc."
   ]
  },
  {
   "cell_type": "markdown",
   "metadata": {
    "slideshow": {
     "slide_type": "subslide"
    }
   },
   "source": [
    "## Wrapper Methods\n",
    "***\n",
    "**Forward Selection**: Forward selection is an iterative method in which we start with having no feature in the model. In each iteration, we keep adding the feature which best improves our model till an addition of a new variable does not improve the performance of the model"
   ]
  },
  {
   "cell_type": "markdown",
   "metadata": {
    "slideshow": {
     "slide_type": "subslide"
    }
   },
   "source": [
    "## Wrapper Methods\n",
    "***\n",
    "**Backward Elimination**: In backward elimination, we start with all the features and removes the least significant feature at each iteration which improves the performance of the model. We repeat this until no improvement is observed on removal of features. This technique is also known as **Recursive Feature Elimination.**"
   ]
  },
  {
   "cell_type": "markdown",
   "metadata": {
    "slideshow": {
     "slide_type": "subslide"
    }
   },
   "source": [
    "**Recursive Feature Elimination (RFE)**\n",
    "\n",
    "* The Recursive Feature Elimination (RFE) method works by recursively removing attributes and building a model on those attributes that remain.\n",
    "* It uses an external estimator that assigns weights to features (for example, the coefficients of a linear model) to identify which attributes (and combination of attributes) contribute the most to predicting the target attribute.\n"
   ]
  },
  {
   "cell_type": "markdown",
   "metadata": {
    "slideshow": {
     "slide_type": "subslide"
    }
   },
   "source": [
    "** Recursive Feature Elimination (RFE)**\n",
    "\n",
    "* It is a greedy optimization algorithm which aims to find the best performing feature subset.\n",
    "\n",
    "* It repeatedly creates models and keeps aside the best or the worst performing feature at each iteration. \n",
    "\n",
    "* It constructs the next model with the left features until all the features are exhausted. It then ranks the features based on the order of their elimination."
   ]
  },
  {
   "cell_type": "code",
   "execution_count": 16,
   "metadata": {
    "slideshow": {
     "slide_type": "slide"
    }
   },
   "outputs": [
    {
     "name": "stdout",
     "output_type": "stream",
     "text": [
      "[False False  True  True False False False False False False False False\n",
      " False False False  True  True  True False  True  True  True  True False\n",
      "  True False False False False False False False False False]\n",
      "[ 5 24  1  1  3 10 11 18 21 22 17  7  8 20 15  1  1  1  6  1  1  1  1  4  1\n",
      " 16 13 23 19 14  9 12 25  2]\n"
     ]
    }
   ],
   "source": [
    "# Recursive Feature Elimination\n",
    "from sklearn.feature_selection import RFE\n",
    "from sklearn.linear_model import LinearRegression\n",
    "\n",
    "# create a base classifier used to evaluate a subset of attributes\n",
    "model = LinearRegression()\n",
    "\n",
    "X, y = iowa.iloc[:,:-1], iowa.iloc[:,-1]\n",
    "# create the RFE model and select 3 attributes\n",
    "rfe = RFE(model, 10)\n",
    "rfe = rfe.fit(X, y)\n",
    "\n",
    "# summarize the selection of the attributes\n",
    "print(rfe.support_)\n",
    "print(rfe.ranking_)"
   ]
  },
  {
   "cell_type": "markdown",
   "metadata": {
    "slideshow": {
     "slide_type": "slide"
    }
   },
   "source": [
    "<img src=\"../images/Concept-Alert.png\" alt=\"Concept-ALert\" style=\"width: 100px;float:left; margin-right:15px\"/>\n",
    "<br />\n",
    "## Embedded Methods\n",
    "***\n",
    "![Embedded_1.png](../images/Embedded_1.png)"
   ]
  },
  {
   "cell_type": "markdown",
   "metadata": {
    "slideshow": {
     "slide_type": "slide"
    }
   },
   "source": [
    "* Embedded methods combine the qualities’ of filter and wrapper methods. It’s implemented by algorithms that have their own built-in feature selection methods.\n",
    "* Some of the most popular examples of these methods are LASSO and RIDGE regression which have inbuilt penalization functions to reduce overfitting.\n",
    "    - Lasso regression performs L1 regularization which adds penalty equivalent to absolute value of the magnitude of coefficients.\n",
    "    - Ridge regression performs L2 regularization which adds penalty equivalent to square of the magnitude of coefficients.\n",
    "* We already have learned how these algorithm works.Other examples of embedded methods are Regularized trees, Memetic algorithm, Random multinomial logit."
   ]
  },
  {
   "cell_type": "markdown",
   "metadata": {
    "slideshow": {
     "slide_type": "slide"
    }
   },
   "source": [
    "**Model Based Feature Selection**\n",
    "\n",
    "* Certain models can be used as feature selection mechanisms because their inner workings involves ordering or ranking of features.\n",
    "* We have already gone through such algorithms:\n",
    "* Brain Teaser:\n",
    "     - What are such algorithms?\n",
    "\n"
   ]
  },
  {
   "cell_type": "markdown",
   "metadata": {
    "slideshow": {
     "slide_type": "subslide"
    }
   },
   "source": [
    "**Model Based Feature Selection**\n",
    "* Here are a few algorithms which help us select feature selection:\n",
    "    - L1 regularized linear regression\n",
    "    - Decision Trees\n",
    "    - Random Forests\n",
    "    - Gradient Boosting Machines\n"
   ]
  },
  {
   "cell_type": "markdown",
   "metadata": {
    "slideshow": {
     "slide_type": "slide"
    }
   },
   "source": [
    "## Difference between Filter and Wrapper methods \n",
    "***\n",
    "The main differences between the filter and wrapper methods for feature selection are:\n",
    "* Filter methods measure the relevance of features by their correlation with dependent variable while wrapper methods measure the usefulness of a subset of feature by actually training a model on it.\n",
    "* Filter methods are much faster compared to wrapper methods as they do not involve training the models. On the other hand, wrapper methods are computationally very expensive as well.\n",
    "* Filter methods use statistical methods for evaluation of a subset of features while wrapper methods use cross validation."
   ]
  },
  {
   "cell_type": "markdown",
   "metadata": {
    "slideshow": {
     "slide_type": "slide"
    }
   },
   "source": [
    "## Difference between Filter and Wrapper methods \n",
    "***\n",
    "* Filter methods might fail to find the best subset of features in many occasions but wrapper methods can always provide the best subset of features.\n",
    "* Using the subset of features from the wrapper methods make the model more prone to overfitting as compared to using subset of features from the filter methods."
   ]
  },
  {
   "cell_type": "markdown",
   "metadata": {
    "slideshow": {
     "slide_type": "subslide"
    }
   },
   "source": [
    "# Walkthrough example\n",
    "Good, Moving forward John asked one example with Iowa dataset ...\n",
    "\n",
    "So, Jay give an example with RandomForest ( about the model we will be learning later)"
   ]
  },
  {
   "cell_type": "code",
   "execution_count": 5,
   "metadata": {
    "collapsed": true,
    "slideshow": {
     "slide_type": "slide"
    }
   },
   "outputs": [],
   "source": [
    "import numpy as np\n",
    "import matplotlib.pyplot as plt\n",
    "\n",
    "from sklearn.ensemble import ExtraTreesClassifier\n",
    "from sklearn.linear_model import LogisticRegression\n",
    "from sklearn.tree import DecisionTreeClassifier"
   ]
  },
  {
   "cell_type": "code",
   "execution_count": 15,
   "metadata": {},
   "outputs": [
    {
     "name": "stdout",
     "output_type": "stream",
     "text": [
      "Before\n",
      "(1379, 34)\n",
      "\n",
      "Feature Importance\n",
      "[ 0.05901091  0.05196677  0.02769269  0.03007763  0.04149     0.04006337\n",
      "  0.03288385  0.04009253  0.01262319  0.05767646  0.04650202  0.04344648\n",
      "  0.03756825  0.00145827  0.06410979  0.01334922  0.00801281  0.00712464\n",
      "  0.01745062  0.02375469  0.00072913  0.03504516  0.02070736  0.03943608\n",
      "  0.01432993  0.07665121  0.03853827  0.04397767  0.01329012  0.00218918\n",
      "  0.01224912  0.00072913  0.00145827  0.04431518]\n",
      "\n",
      "After\n",
      "(1379, 18)\n"
     ]
    }
   ],
   "source": [
    "print('Before');\n",
    "print(X.shape)\n",
    "\n",
    "clf = DecisionTreeClassifier()\n",
    "clf.fit(X, y)\n",
    "\n",
    "print('\\nFeature Importance');\n",
    "print(clf.feature_importances_)\n",
    "\n",
    "model = SelectFromModel(clf, prefit=True)\n",
    "X_new = model.transform(X)\n",
    "\n",
    "print('\\nAfter'); \n",
    "print(X_new.shape)"
   ]
  },
  {
   "cell_type": "code",
   "execution_count": 5,
   "metadata": {
    "slideshow": {
     "slide_type": "slide"
    }
   },
   "outputs": [
    {
     "data": {
      "text/plain": [
       "ExtraTreesClassifier(bootstrap=False, class_weight=None, criterion='gini',\n",
       "           max_depth=None, max_features='auto', max_leaf_nodes=None,\n",
       "           min_impurity_decrease=0.0, min_impurity_split=None,\n",
       "           min_samples_leaf=1, min_samples_split=2,\n",
       "           min_weight_fraction_leaf=0.0, n_estimators=250, n_jobs=1,\n",
       "           oob_score=False, random_state=0, verbose=0, warm_start=False)"
      ]
     },
     "execution_count": 5,
     "metadata": {},
     "output_type": "execute_result"
    }
   ],
   "source": [
    "# Build a forest and compute the feature importances\n",
    "forest = ExtraTreesClassifier(n_estimators=250,\n",
    "                              random_state=0)\n",
    "\n",
    "forest.fit(X, y)"
   ]
  },
  {
   "cell_type": "code",
   "execution_count": 6,
   "metadata": {
    "slideshow": {
     "slide_type": "slide"
    }
   },
   "outputs": [
    {
     "data": {
      "text/plain": [
       "array([ 0.17763201,  0.29590176,  0.20835127,  0.04712087,  0.04461413,\n",
       "        0.04391181,  0.04630262,  0.04557492,  0.04601349,  0.04457711])"
      ]
     },
     "execution_count": 6,
     "metadata": {},
     "output_type": "execute_result"
    }
   ],
   "source": [
    "importances = forest.feature_importances_\n",
    "importances"
   ]
  },
  {
   "cell_type": "code",
   "execution_count": 7,
   "metadata": {
    "slideshow": {
     "slide_type": "slide"
    }
   },
   "outputs": [
    {
     "data": {
      "text/plain": [
       "array([ 0.06051993,  0.04230464,  0.06436972,  0.01396762,  0.01401046,\n",
       "        0.01384792,  0.01307601,  0.01350302,  0.013044  ,  0.01475966])"
      ]
     },
     "execution_count": 7,
     "metadata": {},
     "output_type": "execute_result"
    }
   ],
   "source": [
    "std = np.std([tree.feature_importances_ for tree in forest.estimators_], axis=0)\n",
    "std"
   ]
  },
  {
   "cell_type": "code",
   "execution_count": 8,
   "metadata": {
    "slideshow": {
     "slide_type": "subslide"
    }
   },
   "outputs": [
    {
     "data": {
      "text/plain": [
       "array([1, 2, 0, 3, 6, 8, 7, 4, 9, 5])"
      ]
     },
     "execution_count": 8,
     "metadata": {},
     "output_type": "execute_result"
    }
   ],
   "source": [
    "indices = np.argsort(importances)[::-1]\n",
    "indices"
   ]
  },
  {
   "cell_type": "code",
   "execution_count": 9,
   "metadata": {
    "slideshow": {
     "slide_type": "slide"
    }
   },
   "outputs": [
    {
     "name": "stdout",
     "output_type": "stream",
     "text": [
      "Feature ranking:\n",
      "1. feature 1 (0.295902)\n",
      "2. feature 2 (0.208351)\n",
      "3. feature 0 (0.177632)\n",
      "4. feature 3 (0.047121)\n",
      "5. feature 6 (0.046303)\n",
      "6. feature 8 (0.046013)\n",
      "7. feature 7 (0.045575)\n",
      "8. feature 4 (0.044614)\n",
      "9. feature 9 (0.044577)\n",
      "10. feature 5 (0.043912)\n"
     ]
    }
   ],
   "source": [
    "# Print the feature ranking\n",
    "print(\"Feature ranking:\")\n",
    "\n",
    "for f in range(X.shape[1]):\n",
    "    print(\"%d. feature %d (%f)\" % (f + 1, indices[f], importances[indices[f]]))"
   ]
  },
  {
   "cell_type": "code",
   "execution_count": 10,
   "metadata": {
    "slideshow": {
     "slide_type": "slide"
    }
   },
   "outputs": [
    {
     "data": {
      "image/png": "[encoded data removed]",
      "text/plain": [
       "<matplotlib.figure.Figure at 0x10ca648d0>"
      ]
     },
     "metadata": {},
     "output_type": "display_data"
    }
   ],
   "source": [
    "# Plot the feature importances of the forest\n",
    "plt.figure()\n",
    "plt.title(\"Feature importances\")\n",
    "plt.bar(range(X.shape[1]), importances[indices],\n",
    "       color=\"r\", yerr=std[indices], align=\"center\")\n",
    "plt.xticks(range(X.shape[1]), indices)\n",
    "plt.xlim([-1, X.shape[1]])\n",
    "plt.show()"
   ]
  },
  {
   "cell_type": "markdown",
   "metadata": {
    "slideshow": {
     "slide_type": "slide"
    }
   },
   "source": [
    "<img src=\"../images/Recap.png\" alt=\"Recap\" style=\"width: 100px;float:left; margin-right:15px\"/>\n",
    "<br />\n",
    "# In-session Recap Time\n",
    "***\n",
    "* Feature Selection\n",
    "* Univariate Feature Selection\n",
    "* Multivariate Feature Selection\n",
    "* Filter Methods\n",
    "* Wrapper Methods\n",
    "* Embedded Methods"
   ]
  },
  {
   "cell_type": "markdown",
   "metadata": {
    "slideshow": {
     "slide_type": "slide"
    }
   },
   "source": [
    "# Thank You\n",
    "***\n",
    "### Next Session: Logistics Regression\n",
    "For more queries - Reach out to academics@greyatom.com "
   ]
  }
 ],
 "metadata": {
  "celltoolbar": "Slideshow",
  "kernelspec": {
   "display_name": "Python 2",
   "language": "python",
   "name": "python2"
  },
  "language_info": {
   "codemirror_mode": {
    "name": "ipython",
    "version": 2
   },
   "file_extension": ".py",
   "mimetype": "text/x-python",
   "name": "python",
   "nbconvert_exporter": "python",
   "pygments_lexer": "ipython2",
   "version": "2.7.13"
  },
  "widgets": {
   "state": {},
   "version": "1.1.2"
  }
 },
 "nbformat": 4,
 "nbformat_minor": 2
}
